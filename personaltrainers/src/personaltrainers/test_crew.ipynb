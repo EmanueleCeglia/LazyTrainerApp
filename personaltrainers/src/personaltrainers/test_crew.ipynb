{
 "cells": [
  {
   "cell_type": "code",
   "execution_count": 31,
   "id": "d1f5a587",
   "metadata": {},
   "outputs": [],
   "source": [
    "from main import run"
   ]
  },
  {
   "cell_type": "code",
   "execution_count": null,
   "id": "f03256e7",
   "metadata": {},
   "outputs": [],
   "source": [
    "run(\"Create an upper-body routine focusing on chest and triceps\")"
   ]
  },
  {
   "cell_type": "code",
   "execution_count": 1,
   "id": "5a249a8d",
   "metadata": {},
   "outputs": [
    {
     "name": "stderr",
     "output_type": "stream",
     "text": [
      "c:\\Users\\Emanuele\\Desktop\\LazyTrainer\\venv\\Lib\\site-packages\\pydantic\\_internal\\_generate_schema.py:623: UserWarning: <built-in function callable> is not a Python type (it may be an instance of an object), Pydantic will allow any object with no validation since we cannot even enforce that the input is an instance of the given type. To get rid of this error wrap the type with `pydantic.SkipValidation`.\n",
      "  warn(\n",
      "Inserting batches in chromadb:   0%|          | 0/1 [00:00<?, ?it/s]c:\\Users\\Emanuele\\Desktop\\LazyTrainer\\venv\\Lib\\site-packages\\chromadb\\types.py:144: PydanticDeprecatedSince211: Accessing the 'model_fields' attribute on the instance is deprecated. Instead, you should access this attribute from the model class. Deprecated in Pydantic V2.11 to be removed in V3.0.\n",
      "  return self.model_fields  # pydantic 2.x\n",
      "2025-05-02 01:58:41,970 - 20536 - local_persistent_hnsw.py-local_persistent_hnsw:339 - WARNING: Add of existing embedding ID: default-app-id--75c1532ab214f9a9aa62a621d128de3949b1aafe61be8171464e64ee08dec56f\n",
      "2025-05-02 01:58:41,971 - 20536 - sqlite.py-sqlite:297 - WARNING: Insert of existing embedding ID: default-app-id--75c1532ab214f9a9aa62a621d128de3949b1aafe61be8171464e64ee08dec56f\n",
      "Inserting batches in chromadb: 100%|██████████| 1/1 [00:00<00:00,  1.17it/s]\n"
     ]
    }
   ],
   "source": [
    "from tools.db_tool import db_tool"
   ]
  },
  {
   "cell_type": "code",
   "execution_count": 9,
   "id": "a92e86b2",
   "metadata": {},
   "outputs": [
    {
     "name": "stdout",
     "output_type": "stream",
     "text": [
      "Using Tool: pg_search_tool\n"
     ]
    },
    {
     "name": "stderr",
     "output_type": "stream",
     "text": [
      "2025-05-02 02:03:43,215 - 20536 - local_persistent_hnsw.py-local_persistent_hnsw:423 - WARNING: Number of requested results 3 is greater than number of elements in index 1, updating n_results = 1\n"
     ]
    },
    {
     "name": "stdout",
     "output_type": "stream",
     "text": [
      "Relevant Content:\n",
      "SELECT * FROM exercise_full_view;\n"
     ]
    }
   ],
   "source": [
    "rows = db_tool.run(\"select al the chest exercises\")\n",
    "print(rows)  "
   ]
  },
  {
   "cell_type": "code",
   "execution_count": 15,
   "id": "041231e5",
   "metadata": {},
   "outputs": [
    {
     "name": "stderr",
     "output_type": "stream",
     "text": [
      "2025-05-02 02:06:59,635 - 20536 - local_persistent_hnsw.py-local_persistent_hnsw:423 - WARNING: Number of requested results 3 is greater than number of elements in index 1, updating n_results = 1\n"
     ]
    },
    {
     "data": {
      "text/plain": [
       "'Relevant Content:\\nSELECT * FROM exercise_full_view;'"
      ]
     },
     "execution_count": 15,
     "metadata": {},
     "output_type": "execute_result"
    }
   ],
   "source": [
    "db_tool._run(\"select only the chest exercises\")"
   ]
  }
 ],
 "metadata": {
  "kernelspec": {
   "display_name": "venv",
   "language": "python",
   "name": "python3"
  },
  "language_info": {
   "codemirror_mode": {
    "name": "ipython",
    "version": 3
   },
   "file_extension": ".py",
   "mimetype": "text/x-python",
   "name": "python",
   "nbconvert_exporter": "python",
   "pygments_lexer": "ipython3",
   "version": "3.12.10"
  }
 },
 "nbformat": 4,
 "nbformat_minor": 5
}
