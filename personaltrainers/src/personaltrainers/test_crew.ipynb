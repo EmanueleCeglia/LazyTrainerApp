{
 "cells": [
  {
   "cell_type": "code",
   "execution_count": 125,
   "id": "30cef3f4",
   "metadata": {},
   "outputs": [],
   "source": [
    "# Notebook cell 1\n",
    "import sys, pathlib\n",
    "from tools.prompt_cache import cached_call\n",
    "\n",
    "# add the project root so Python can see `personaltrainers/`\n",
    "ROOT = pathlib.Path.cwd()          # change if you launch the notebook elsewhere\n",
    "sys.path.append(str(ROOT))\n",
    "\n",
    "# reload local modules each time you run the cell (handy while editing)\n",
    "from crew import Personaltrainers\n",
    "from tools.db_call import db_call\n",
    "\n",
    "\n",
    "# 1: SQL FILTER GENERATOR\n",
    "def sql_filter(client_request: str) -> str:\n",
    "    inputs = {\"user_request\": client_request}\n",
    "    result = Personaltrainers().crew().kickoff(inputs=inputs).raw\n",
    "    result = result.replace(\"`\", \"\")\n",
    "    result = result.replace(\"\\n\", \"\")\n",
    "\n",
    "    sql_filter = \" \".join(result.split())\n",
    "\n",
    "    return sql_filter"
   ]
  },
  {
   "cell_type": "code",
   "execution_count": 164,
   "id": "4925da0c",
   "metadata": {},
   "outputs": [
    {
     "name": "stdout",
     "output_type": "stream",
     "text": [
      "What do you want to train today?\n",
      "  1. Upper body\n",
      "  2. Lower body\n",
      "  3. Full body\n",
      "Select the muscle groups (comma-separated):\n",
      "  1. Chest\n",
      "  2. Lats\n",
      "  3. Shoulders\n",
      "  4. Biceps\n",
      "  5. Triceps\n",
      "Where are you training?\n",
      "  1. Gym\n",
      "  2. Park\n",
      "  3. Home\n",
      "Select the equipment you have (leave blank for none):\n",
      "  1. Gymnastics rings\n",
      "  2. Parallel bars\n",
      "  3. Parallettes\n",
      "  4. Pull-up bar\n",
      "  5. Barbell\n",
      "  6. Dumbbells\n",
      "  7. Kettlebell\n",
      "\n",
      "--- Answers saved! ---\n",
      "{\n",
      "  \"train_target\": \"Upper body\",\n",
      "  \"focus_muscle\": true,\n",
      "  \"muscles\": [\n",
      "    \"Chest\",\n",
      "    \"Shoulders\"\n",
      "  ],\n",
      "  \"duration_minutes\": 60,\n",
      "  \"location\": \"Home\",\n",
      "  \"equipment_available\": true,\n",
      "  \"equipment\": [\n",
      "    \"Gymnastics rings\"\n",
      "  ]\n",
      "}\n",
      "\n",
      "JSON file created: C:\\Users\\Emanuele\\Desktop\\LazyTrainer\\personaltrainers\\src\\personaltrainers\\workout_payload.json\n"
     ]
    }
   ],
   "source": [
    "import json\n",
    "from pathlib import Path\n",
    "\n",
    "# ---------------- Helper functions ---------------- #\n",
    "def prompt_choice(question: str, options: list[str]) -> str:\n",
    "    \"\"\"Display a question with enumerated options and return the selected value.\"\"\"\n",
    "    print(question)\n",
    "    for idx, opt in enumerate(options, start=1):\n",
    "        print(f\"  {idx}. {opt}\")\n",
    "    while True:\n",
    "        choice = input(\"Select the corresponding number: \").strip()\n",
    "        if choice.isdigit() and 1 <= int(choice) <= len(options):\n",
    "            return options[int(choice) - 1]\n",
    "        print(\"Invalid input, please try again.\")\n",
    "\n",
    "def prompt_yes_no(question: str) -> bool:\n",
    "    \"\"\"Return True if the user answers 'y/Y', False if 'n/N'.\"\"\"\n",
    "    while True:\n",
    "        ans = input(f\"{question} [y/n]: \").strip().lower()\n",
    "        if ans in (\"y\", \"n\"):\n",
    "            return ans == \"y\"\n",
    "        print(\"Please answer with 'y' for yes or 'n' for no.\")\n",
    "\n",
    "def prompt_int_range(question: str, minimum: int, maximum: int) -> int:\n",
    "    \"\"\"Ask for an integer within [minimum, maximum] (inclusive).\"\"\"\n",
    "    while True:\n",
    "        ans = input(f\"{question} ({minimum}-{maximum}): \").strip()\n",
    "        if ans.isdigit() and minimum <= int(ans) <= maximum:\n",
    "            return int(ans)\n",
    "        print(\"Number out of range, please try again.\")\n",
    "\n",
    "def prompt_multi_select(options: list[str]) -> list[str]:\n",
    "    \"\"\"\n",
    "    Let the user select multiple items by number (comma-separated).\n",
    "    Return the chosen items as a list.\n",
    "    \"\"\"\n",
    "    for idx, opt in enumerate(options, start=1):\n",
    "        print(f\"  {idx}. {opt}\")\n",
    "    while True:\n",
    "        raw = input(\"Enter the corresponding numbers (comma-separated): \").replace(\" \", \"\")\n",
    "        indices = [s for s in raw.split(\",\") if s.isdigit()]\n",
    "        if all(1 <= int(i) <= len(options) for i in indices):\n",
    "            return [options[int(i) - 1] for i in indices] if indices else []\n",
    "        print(\"Invalid selection, please try again.\")\n",
    "\n",
    "# ---------------- Questionnaire ---------------- #\n",
    "def run_questionnaire() -> dict:\n",
    "    \"\"\"Run all steps and return a dict representing the payload.\"\"\"\n",
    "    # 1. Main workout focus\n",
    "    train_question = \"What do you want to train today?\"\n",
    "    train_options  = [\"Upper body\", \"Lower body\", \"Full body\"]\n",
    "    train_target = prompt_choice(train_question, train_options)\n",
    "\n",
    "    # 2. Specific muscle focus (conditional)\n",
    "    focus_muscle = prompt_yes_no(\"Do you want to put specific focus on certain muscles?\")\n",
    "    muscles = []\n",
    "    if focus_muscle:\n",
    "        # Map allowed muscles by primary focus\n",
    "        muscle_map = {\n",
    "            \"Upper body\": [\"Chest\", \"Lats\", \"Shoulders\", \"Biceps\", \"Triceps\"],\n",
    "            \"Lower body\": [\"Quads\", \"Hamstrings\", \"Glutes\", \"Calves\"],\n",
    "            \"Full body\" : [\"Chest\", \"Back\", \"Shoulders\", \"Biceps\", \"Triceps\",\n",
    "                           \"Quads\", \"Hamstrings\", \"Glutes\", \"Calves\"],\n",
    "        }\n",
    "        available = muscle_map[train_target]\n",
    "        print(\"Select the muscle groups (comma-separated):\")\n",
    "        for idx, mus in enumerate(available, start=1):\n",
    "            print(f\"  {idx}. {mus}\")\n",
    "        while True:\n",
    "            raw = input(\"Enter the corresponding numbers: \").replace(\" \", \"\")\n",
    "            indices = [s for s in raw.split(\",\") if s.isdigit()]\n",
    "            if all(1 <= int(i) <= len(available) for i in indices):\n",
    "                muscles = [available[int(i)-1] for i in indices]\n",
    "                break\n",
    "            print(\"Invalid selection, please try again.\")\n",
    "\n",
    "    # 3. Time available\n",
    "    minutes = prompt_int_range(\"How much time do you have available (in minutes)?\", 45, 180)\n",
    "\n",
    "    # 4. Training location\n",
    "    location = prompt_choice(\"Where are you training?\", [\"Gym\", \"Park\", \"Home\"])\n",
    "\n",
    "    # 5. Equipment available (conditional)\n",
    "    equipment_list = [\"Gymnastics rings\", \"Parallel bars\", \"Parallettes\",\n",
    "                      \"Pull-up bar\", \"Barbell\", \"Dumbbells\", \"Kettlebell\"]\n",
    "    equipment_available = False\n",
    "    equipment = []\n",
    "    if location in {\"Park\", \"Home\"}:\n",
    "        equipment_available = prompt_yes_no(\n",
    "            \"Do you have any specific equipment available?\"\n",
    "        )\n",
    "        if equipment_available:\n",
    "            print(\"Select the equipment you have (leave blank for none):\")\n",
    "            equipment = prompt_multi_select(equipment_list)\n",
    "\n",
    "    # Assemble payload\n",
    "    payload = {\n",
    "        \"train_target\": train_target,\n",
    "        \"focus_muscle\": focus_muscle,\n",
    "        \"muscles\": muscles,                   # empty list if none\n",
    "        \"duration_minutes\": minutes,\n",
    "        \"location\": location,\n",
    "        \"equipment_available\": equipment_available,\n",
    "        \"equipment\": equipment                # empty list if none\n",
    "    }\n",
    "    return payload\n",
    "\n",
    "# ---------------- Main entry point ---------------- #\n",
    "answers = run_questionnaire()\n",
    "file_path = Path(\"workout_payload.json\")\n",
    "with file_path.open(\"w\", encoding=\"utf-8\") as fp:\n",
    "    json.dump(answers, fp, ensure_ascii=False, indent=2)\n",
    "print(\"\\n--- Answers saved! ---\")\n",
    "print(json.dumps(answers, ensure_ascii=False, indent=2))\n",
    "print(f\"\\nJSON file created: {file_path.resolve()}\")"
   ]
  },
  {
   "cell_type": "code",
   "execution_count": 165,
   "id": "eaf560f3",
   "metadata": {},
   "outputs": [
    {
     "data": {
      "text/plain": [
       "{'train_target': 'Upper body',\n",
       " 'focus_muscle': True,\n",
       " 'muscles': ['Chest', 'Shoulders'],\n",
       " 'duration_minutes': 60,\n",
       " 'location': 'Home',\n",
       " 'equipment_available': True,\n",
       " 'equipment': ['Gymnastics rings']}"
      ]
     },
     "execution_count": 165,
     "metadata": {},
     "output_type": "execute_result"
    }
   ],
   "source": [
    "with file_path.open(\"r\", encoding=\"utf-8\") as fp:\n",
    "    answers = json.load(fp)\n",
    "\n",
    "answers"
   ]
  },
  {
   "cell_type": "code",
   "execution_count": 166,
   "id": "d670837d",
   "metadata": {},
   "outputs": [
    {
     "name": "stdout",
     "output_type": "stream",
     "text": [
      "\n",
      "    Select the exercises using these informations: \n",
      "    - body_region: Upper body, \n",
      "    - muscles: Chest, Shoulders,\n",
      "    - load_class: Home\n",
      "    - equipment: Ground, Gymnastics rings\n"
     ]
    }
   ],
   "source": [
    "if answers.get('focus_muscle'):\n",
    "    prompt = f\"\"\"\n",
    "    Select the exercises using these informations: \n",
    "    - body_region: {answers.get('train_target')}, \n",
    "    - muscles: {answers.get('muscles')},\n",
    "    - load_class: {answers.get('location')}\"\"\"\n",
    "else:\n",
    "    prompt = f\"\"\"\n",
    "    Select the exercises using these informations: \n",
    "    - body_region: {answers.get('train_target')},\n",
    "    - load_class: {answers.get('location')}\"\"\"\n",
    "\n",
    "if answers.get('equipment_available'):\n",
    "    prompt += f\"\"\"\n",
    "    - equipment: Ground, {answers.get('equipment')}\"\"\"\n",
    "prompt = prompt.replace(\"'\", \"\")\n",
    "prompt = prompt.replace(\"[\", \"\")\n",
    "prompt = prompt.replace(\"]\", \"\")\n",
    "print(prompt)"
   ]
  },
  {
   "cell_type": "code",
   "execution_count": 167,
   "id": "dcab6388",
   "metadata": {},
   "outputs": [
    {
     "data": {
      "text/html": [
       "<pre style=\"white-space:pre;overflow-x:auto;line-height:normal;font-family:Menlo,'DejaVu Sans Mono',consolas,'Courier New',monospace\"><span style=\"color: #008080; text-decoration-color: #008080\">╭──────────────────────────────────────────── Crew Execution Started ─────────────────────────────────────────────╮</span>\n",
       "<span style=\"color: #008080; text-decoration-color: #008080\">│</span>                                                                                                                 <span style=\"color: #008080; text-decoration-color: #008080\">│</span>\n",
       "<span style=\"color: #008080; text-decoration-color: #008080\">│</span>  <span style=\"color: #008080; text-decoration-color: #008080; font-weight: bold\">Crew Execution Started</span>                                                                                         <span style=\"color: #008080; text-decoration-color: #008080\">│</span>\n",
       "<span style=\"color: #008080; text-decoration-color: #008080\">│</span>  <span style=\"color: #c0c0c0; text-decoration-color: #c0c0c0\">Name: </span><span style=\"color: #008080; text-decoration-color: #008080\">crew</span>                                                                                                     <span style=\"color: #008080; text-decoration-color: #008080\">│</span>\n",
       "<span style=\"color: #008080; text-decoration-color: #008080\">│</span>  <span style=\"color: #c0c0c0; text-decoration-color: #c0c0c0\">ID: </span><span style=\"color: #008080; text-decoration-color: #008080\">a2649c7f-8749-4427-95f4-d91ebf104118</span>                                                                       <span style=\"color: #008080; text-decoration-color: #008080\">│</span>\n",
       "<span style=\"color: #008080; text-decoration-color: #008080\">│</span>                                                                                                                 <span style=\"color: #008080; text-decoration-color: #008080\">│</span>\n",
       "<span style=\"color: #008080; text-decoration-color: #008080\">│</span>                                                                                                                 <span style=\"color: #008080; text-decoration-color: #008080\">│</span>\n",
       "<span style=\"color: #008080; text-decoration-color: #008080\">╰─────────────────────────────────────────────────────────────────────────────────────────────────────────────────╯</span>\n",
       "</pre>\n"
      ],
      "text/plain": [
       "\u001b[36m╭─\u001b[0m\u001b[36m───────────────────────────────────────────\u001b[0m\u001b[36m Crew Execution Started \u001b[0m\u001b[36m────────────────────────────────────────────\u001b[0m\u001b[36m─╮\u001b[0m\n",
       "\u001b[36m│\u001b[0m                                                                                                                 \u001b[36m│\u001b[0m\n",
       "\u001b[36m│\u001b[0m  \u001b[1;36mCrew Execution Started\u001b[0m                                                                                         \u001b[36m│\u001b[0m\n",
       "\u001b[36m│\u001b[0m  \u001b[37mName: \u001b[0m\u001b[36mcrew\u001b[0m                                                                                                     \u001b[36m│\u001b[0m\n",
       "\u001b[36m│\u001b[0m  \u001b[37mID: \u001b[0m\u001b[36ma2649c7f-8749-4427-95f4-d91ebf104118\u001b[0m                                                                       \u001b[36m│\u001b[0m\n",
       "\u001b[36m│\u001b[0m                                                                                                                 \u001b[36m│\u001b[0m\n",
       "\u001b[36m│\u001b[0m                                                                                                                 \u001b[36m│\u001b[0m\n",
       "\u001b[36m╰─────────────────────────────────────────────────────────────────────────────────────────────────────────────────╯\u001b[0m\n"
      ]
     },
     "metadata": {},
     "output_type": "display_data"
    },
    {
     "data": {
      "text/html": [
       "<pre style=\"white-space:pre;overflow-x:auto;line-height:normal;font-family:Menlo,'DejaVu Sans Mono',consolas,'Courier New',monospace\">\n",
       "</pre>\n"
      ],
      "text/plain": [
       "\n"
      ]
     },
     "metadata": {},
     "output_type": "display_data"
    },
    {
     "data": {
      "text/html": [
       "<pre style=\"white-space:pre;overflow-x:auto;line-height:normal;font-family:Menlo,'DejaVu Sans Mono',consolas,'Courier New',monospace\"><span style=\"color: #008080; text-decoration-color: #008080; font-weight: bold\">🚀 Crew: crew</span>\n",
       "└── <span style=\"color: #808000; text-decoration-color: #808000; font-weight: bold\">📋 Task: 0ef270b5-c03a-42fe-a154-1475d64452bc</span>\n",
       "    <span style=\"color: #c0c0c0; text-decoration-color: #c0c0c0\">   Status: </span><span style=\"color: #bfbf7f; text-decoration-color: #bfbf7f\">Executing Task...</span>\n",
       "</pre>\n"
      ],
      "text/plain": [
       "\u001b[1;36m🚀 Crew: \u001b[0m\u001b[1;36mcrew\u001b[0m\n",
       "└── \u001b[1;33m📋 Task: 0ef270b5-c03a-42fe-a154-1475d64452bc\u001b[0m\n",
       "    \u001b[37m   Status: \u001b[0m\u001b[2;33mExecuting Task...\u001b[0m\n"
      ]
     },
     "metadata": {},
     "output_type": "display_data"
    },
    {
     "data": {
      "text/html": [
       "<pre style=\"white-space:pre;overflow-x:auto;line-height:normal;font-family:Menlo,'DejaVu Sans Mono',consolas,'Courier New',monospace\">\n",
       "</pre>\n"
      ],
      "text/plain": [
       "\n"
      ]
     },
     "metadata": {},
     "output_type": "display_data"
    },
    {
     "data": {
      "text/html": [
       "<pre style=\"white-space:pre;overflow-x:auto;line-height:normal;font-family:Menlo,'DejaVu Sans Mono',consolas,'Courier New',monospace\"><span style=\"color: #008080; text-decoration-color: #008080; font-weight: bold\">🚀 Crew: crew</span>\n",
       "└── <span style=\"color: #808000; text-decoration-color: #808000; font-weight: bold\">📋 Task: 0ef270b5-c03a-42fe-a154-1475d64452bc</span>\n",
       "    <span style=\"color: #c0c0c0; text-decoration-color: #c0c0c0\">   Status: </span><span style=\"color: #bfbf7f; text-decoration-color: #bfbf7f\">Executing Task...</span>\n",
       "    └── <span style=\"color: #008000; text-decoration-color: #008000; font-weight: bold\">🤖 Agent: </span><span style=\"color: #008000; text-decoration-color: #008000\">Personal Trainer AI</span>\n",
       "        \n",
       "        <span style=\"color: #c0c0c0; text-decoration-color: #c0c0c0\">    Status: </span><span style=\"color: #008000; text-decoration-color: #008000; font-weight: bold\">In Progress</span>\n",
       "</pre>\n"
      ],
      "text/plain": [
       "\u001b[1;36m🚀 Crew: \u001b[0m\u001b[1;36mcrew\u001b[0m\n",
       "└── \u001b[1;33m📋 Task: 0ef270b5-c03a-42fe-a154-1475d64452bc\u001b[0m\n",
       "    \u001b[37m   Status: \u001b[0m\u001b[2;33mExecuting Task...\u001b[0m\n",
       "    └── \u001b[1;32m🤖 Agent: \u001b[0m\u001b[32mPersonal Trainer AI\u001b[0m\n",
       "        \n",
       "        \u001b[37m    Status: \u001b[0m\u001b[1;32mIn Progress\u001b[0m\n"
      ]
     },
     "metadata": {},
     "output_type": "display_data"
    },
    {
     "data": {
      "text/html": [
       "<pre style=\"white-space:pre;overflow-x:auto;line-height:normal;font-family:Menlo,'DejaVu Sans Mono',consolas,'Courier New',monospace\">\n",
       "</pre>\n"
      ],
      "text/plain": [
       "\n"
      ]
     },
     "metadata": {},
     "output_type": "display_data"
    },
    {
     "name": "stdout",
     "output_type": "stream",
     "text": [
      "\u001b[1m\u001b[95m# Agent:\u001b[00m \u001b[1m\u001b[92mPersonal Trainer AI\u001b[00m\n",
      "\u001b[95m## Task:\u001b[00m \u001b[92mThe user says: **\n",
      "    Select the exercises using these informations: \n",
      "    - body_region: Upper body, \n",
      "    - muscles: Chest, Shoulders,\n",
      "    - load_class: Home\n",
      "    - equipment: Ground, Gymnastics rings**.\n",
      "Your task is to generate a WHERE filter for an SQL query based on the user request \\ if the request does not speak about a training program your output mut be empty string.\n",
      "Your output must be an SQL query like the one delimited by triple backtics. \\ If a column has no values drop it\n",
      "WHERE\n",
      "    body_region IN () AND \n",
      "    (\n",
      "    load_class LIKE '%load_class%' OR\n",
      "    load_class LIKE '%load_class%'\n",
      "    OR equipments in ()\n",
      "    )\n",
      "    AND\n",
      "    (\n",
      "    muscles LIKE '%muscle_name%' OR\n",
      "    muscles LIKE '%muscle_name%' OR \n",
      "    )\n",
      "    ... \n",
      "\n",
      "\n",
      "Possible values:\n",
      "body_region: 'upper body', 'lower body'  muscles: 'chest', 'shoulders', 'tricpes', 'lats', 'biceps', 'quads', 'harmstrings', 'glutes', 'calves' load_class: 'bodyweight', 'free-weight', 'machine' equipments: 'gymnastics rings, parallel bars, parallettes, pull-up bar, barbell, dumbells, kettlebell, ground'\n",
      "End possible values.\n",
      "Please note: If the load_class is 'Park' or 'Home' you must set load_class LIKE '%bodyweight%' If the load_class is 'Gym' you must select: load_class LIKE '%bodyweight%' OR load_class LIKE '%free-weight%' OR load_class LIKE '%machine%' If there is not a specific equipment specified in the request do not include \"OR equipments in ()\" in the WHERE filter\n",
      "\u001b[00m\n",
      "\n",
      "\n",
      "\u001b[1m\u001b[95m# Agent:\u001b[00m \u001b[1m\u001b[92mPersonal Trainer AI\u001b[00m\n",
      "\u001b[95m## Final Answer:\u001b[00m \u001b[92m\n",
      "```WHERE  \n",
      "    body_region IN ('upper body') AND  \n",
      "    (  \n",
      "        load_class LIKE '%bodyweight%'  \n",
      "    )  \n",
      "    AND  \n",
      "    (  \n",
      "        muscles LIKE '%chest%' OR  \n",
      "        muscles LIKE '%shoulders%'  \n",
      "    )```\u001b[00m\n",
      "\n",
      "\n"
     ]
    },
    {
     "data": {
      "text/html": [
       "<pre style=\"white-space:pre;overflow-x:auto;line-height:normal;font-family:Menlo,'DejaVu Sans Mono',consolas,'Courier New',monospace\"><span style=\"color: #008080; text-decoration-color: #008080; font-weight: bold\">🚀 Crew: crew</span>\n",
       "└── <span style=\"color: #808000; text-decoration-color: #808000; font-weight: bold\">📋 Task: 0ef270b5-c03a-42fe-a154-1475d64452bc</span>\n",
       "    <span style=\"color: #c0c0c0; text-decoration-color: #c0c0c0\">   Status: </span><span style=\"color: #bfbf7f; text-decoration-color: #bfbf7f\">Executing Task...</span>\n",
       "    └── <span style=\"color: #008000; text-decoration-color: #008000; font-weight: bold\">🤖 Agent: </span><span style=\"color: #008000; text-decoration-color: #008000\">Personal Trainer AI</span>\n",
       "        \n",
       "        <span style=\"color: #c0c0c0; text-decoration-color: #c0c0c0\">    Status: </span><span style=\"color: #008000; text-decoration-color: #008000; font-weight: bold\">✅ Completed</span>\n",
       "</pre>\n"
      ],
      "text/plain": [
       "\u001b[1;36m🚀 Crew: \u001b[0m\u001b[1;36mcrew\u001b[0m\n",
       "└── \u001b[1;33m📋 Task: 0ef270b5-c03a-42fe-a154-1475d64452bc\u001b[0m\n",
       "    \u001b[37m   Status: \u001b[0m\u001b[2;33mExecuting Task...\u001b[0m\n",
       "    └── \u001b[1;32m🤖 Agent: \u001b[0m\u001b[32mPersonal Trainer AI\u001b[0m\n",
       "        \n",
       "        \u001b[37m    Status: \u001b[0m\u001b[1;32m✅ Completed\u001b[0m\n"
      ]
     },
     "metadata": {},
     "output_type": "display_data"
    },
    {
     "data": {
      "text/html": [
       "<pre style=\"white-space:pre;overflow-x:auto;line-height:normal;font-family:Menlo,'DejaVu Sans Mono',consolas,'Courier New',monospace\">\n",
       "</pre>\n"
      ],
      "text/plain": [
       "\n"
      ]
     },
     "metadata": {},
     "output_type": "display_data"
    },
    {
     "data": {
      "text/html": [
       "<pre style=\"white-space:pre;overflow-x:auto;line-height:normal;font-family:Menlo,'DejaVu Sans Mono',consolas,'Courier New',monospace\"><span style=\"color: #008080; text-decoration-color: #008080; font-weight: bold\">🚀 Crew: crew</span>\n",
       "└── <span style=\"color: #008000; text-decoration-color: #008000; font-weight: bold\">📋 Task: 0ef270b5-c03a-42fe-a154-1475d64452bc</span>\n",
       "    <span style=\"color: #c0c0c0; text-decoration-color: #c0c0c0\">   Assigned to: </span><span style=\"color: #008000; text-decoration-color: #008000\">Personal Trainer AI</span>\n",
       "    \n",
       "    <span style=\"color: #c0c0c0; text-decoration-color: #c0c0c0\">   Status: </span><span style=\"color: #008000; text-decoration-color: #008000; font-weight: bold\">✅ Completed</span>\n",
       "    └── <span style=\"color: #008000; text-decoration-color: #008000; font-weight: bold\">🤖 Agent: </span><span style=\"color: #008000; text-decoration-color: #008000\">Personal Trainer AI</span>\n",
       "        \n",
       "        <span style=\"color: #c0c0c0; text-decoration-color: #c0c0c0\">    Status: </span><span style=\"color: #008000; text-decoration-color: #008000; font-weight: bold\">✅ Completed</span>\n",
       "</pre>\n"
      ],
      "text/plain": [
       "\u001b[1;36m🚀 Crew: \u001b[0m\u001b[1;36mcrew\u001b[0m\n",
       "└── \u001b[1;32m📋 Task: 0ef270b5-c03a-42fe-a154-1475d64452bc\u001b[0m\n",
       "    \u001b[37m   Assigned to: \u001b[0m\u001b[32mPersonal Trainer AI\u001b[0m\n",
       "    \n",
       "    \u001b[37m   Status: \u001b[0m\u001b[1;32m✅ Completed\u001b[0m\n",
       "    └── \u001b[1;32m🤖 Agent: \u001b[0m\u001b[32mPersonal Trainer AI\u001b[0m\n",
       "        \n",
       "        \u001b[37m    Status: \u001b[0m\u001b[1;32m✅ Completed\u001b[0m\n"
      ]
     },
     "metadata": {},
     "output_type": "display_data"
    },
    {
     "data": {
      "text/html": [
       "<pre style=\"white-space:pre;overflow-x:auto;line-height:normal;font-family:Menlo,'DejaVu Sans Mono',consolas,'Courier New',monospace\"><span style=\"color: #008000; text-decoration-color: #008000\">╭──────────────────────────────────────────────── Task Completion ────────────────────────────────────────────────╮</span>\n",
       "<span style=\"color: #008000; text-decoration-color: #008000\">│</span>                                                                                                                 <span style=\"color: #008000; text-decoration-color: #008000\">│</span>\n",
       "<span style=\"color: #008000; text-decoration-color: #008000\">│</span>  <span style=\"color: #008000; text-decoration-color: #008000; font-weight: bold\">Task Completed</span>                                                                                                 <span style=\"color: #008000; text-decoration-color: #008000\">│</span>\n",
       "<span style=\"color: #008000; text-decoration-color: #008000\">│</span>  <span style=\"color: #c0c0c0; text-decoration-color: #c0c0c0\">Name: </span><span style=\"color: #008000; text-decoration-color: #008000\">0ef270b5-c03a-42fe-a154-1475d64452bc</span>                                                                     <span style=\"color: #008000; text-decoration-color: #008000\">│</span>\n",
       "<span style=\"color: #008000; text-decoration-color: #008000\">│</span>  <span style=\"color: #c0c0c0; text-decoration-color: #c0c0c0\">Agent: </span><span style=\"color: #008000; text-decoration-color: #008000\">Personal Trainer AI</span>                                                                                     <span style=\"color: #008000; text-decoration-color: #008000\">│</span>\n",
       "<span style=\"color: #008000; text-decoration-color: #008000\">│</span>                                                                                                                 <span style=\"color: #008000; text-decoration-color: #008000\">│</span>\n",
       "<span style=\"color: #008000; text-decoration-color: #008000\">│</span>                                                                                                                 <span style=\"color: #008000; text-decoration-color: #008000\">│</span>\n",
       "<span style=\"color: #008000; text-decoration-color: #008000\">│</span>                                                                                                                 <span style=\"color: #008000; text-decoration-color: #008000\">│</span>\n",
       "<span style=\"color: #008000; text-decoration-color: #008000\">╰─────────────────────────────────────────────────────────────────────────────────────────────────────────────────╯</span>\n",
       "</pre>\n"
      ],
      "text/plain": [
       "\u001b[32m╭─\u001b[0m\u001b[32m───────────────────────────────────────────────\u001b[0m\u001b[32m Task Completion \u001b[0m\u001b[32m───────────────────────────────────────────────\u001b[0m\u001b[32m─╮\u001b[0m\n",
       "\u001b[32m│\u001b[0m                                                                                                                 \u001b[32m│\u001b[0m\n",
       "\u001b[32m│\u001b[0m  \u001b[1;32mTask Completed\u001b[0m                                                                                                 \u001b[32m│\u001b[0m\n",
       "\u001b[32m│\u001b[0m  \u001b[37mName: \u001b[0m\u001b[32m0ef270b5-c03a-42fe-a154-1475d64452bc\u001b[0m                                                                     \u001b[32m│\u001b[0m\n",
       "\u001b[32m│\u001b[0m  \u001b[37mAgent: \u001b[0m\u001b[32mPersonal Trainer AI\u001b[0m                                                                                     \u001b[32m│\u001b[0m\n",
       "\u001b[32m│\u001b[0m                                                                                                                 \u001b[32m│\u001b[0m\n",
       "\u001b[32m│\u001b[0m                                                                                                                 \u001b[32m│\u001b[0m\n",
       "\u001b[32m│\u001b[0m                                                                                                                 \u001b[32m│\u001b[0m\n",
       "\u001b[32m╰─────────────────────────────────────────────────────────────────────────────────────────────────────────────────╯\u001b[0m\n"
      ]
     },
     "metadata": {},
     "output_type": "display_data"
    },
    {
     "data": {
      "text/html": [
       "<pre style=\"white-space:pre;overflow-x:auto;line-height:normal;font-family:Menlo,'DejaVu Sans Mono',consolas,'Courier New',monospace\">\n",
       "</pre>\n"
      ],
      "text/plain": [
       "\n"
      ]
     },
     "metadata": {},
     "output_type": "display_data"
    },
    {
     "data": {
      "text/html": [
       "<pre style=\"white-space:pre;overflow-x:auto;line-height:normal;font-family:Menlo,'DejaVu Sans Mono',consolas,'Courier New',monospace\"><span style=\"color: #008000; text-decoration-color: #008000\">╭──────────────────────────────────────────────── Crew Completion ────────────────────────────────────────────────╮</span>\n",
       "<span style=\"color: #008000; text-decoration-color: #008000\">│</span>                                                                                                                 <span style=\"color: #008000; text-decoration-color: #008000\">│</span>\n",
       "<span style=\"color: #008000; text-decoration-color: #008000\">│</span>  <span style=\"color: #008000; text-decoration-color: #008000; font-weight: bold\">Crew Execution Completed</span>                                                                                       <span style=\"color: #008000; text-decoration-color: #008000\">│</span>\n",
       "<span style=\"color: #008000; text-decoration-color: #008000\">│</span>  <span style=\"color: #c0c0c0; text-decoration-color: #c0c0c0\">Name: </span><span style=\"color: #008000; text-decoration-color: #008000\">crew</span>                                                                                                     <span style=\"color: #008000; text-decoration-color: #008000\">│</span>\n",
       "<span style=\"color: #008000; text-decoration-color: #008000\">│</span>  <span style=\"color: #c0c0c0; text-decoration-color: #c0c0c0\">ID: </span><span style=\"color: #008000; text-decoration-color: #008000\">a2649c7f-8749-4427-95f4-d91ebf104118</span>                                                                       <span style=\"color: #008000; text-decoration-color: #008000\">│</span>\n",
       "<span style=\"color: #008000; text-decoration-color: #008000\">│</span>                                                                                                                 <span style=\"color: #008000; text-decoration-color: #008000\">│</span>\n",
       "<span style=\"color: #008000; text-decoration-color: #008000\">│</span>                                                                                                                 <span style=\"color: #008000; text-decoration-color: #008000\">│</span>\n",
       "<span style=\"color: #008000; text-decoration-color: #008000\">╰─────────────────────────────────────────────────────────────────────────────────────────────────────────────────╯</span>\n",
       "</pre>\n"
      ],
      "text/plain": [
       "\u001b[32m╭─\u001b[0m\u001b[32m───────────────────────────────────────────────\u001b[0m\u001b[32m Crew Completion \u001b[0m\u001b[32m───────────────────────────────────────────────\u001b[0m\u001b[32m─╮\u001b[0m\n",
       "\u001b[32m│\u001b[0m                                                                                                                 \u001b[32m│\u001b[0m\n",
       "\u001b[32m│\u001b[0m  \u001b[1;32mCrew Execution Completed\u001b[0m                                                                                       \u001b[32m│\u001b[0m\n",
       "\u001b[32m│\u001b[0m  \u001b[37mName: \u001b[0m\u001b[32mcrew\u001b[0m                                                                                                     \u001b[32m│\u001b[0m\n",
       "\u001b[32m│\u001b[0m  \u001b[37mID: \u001b[0m\u001b[32ma2649c7f-8749-4427-95f4-d91ebf104118\u001b[0m                                                                       \u001b[32m│\u001b[0m\n",
       "\u001b[32m│\u001b[0m                                                                                                                 \u001b[32m│\u001b[0m\n",
       "\u001b[32m│\u001b[0m                                                                                                                 \u001b[32m│\u001b[0m\n",
       "\u001b[32m╰─────────────────────────────────────────────────────────────────────────────────────────────────────────────────╯\u001b[0m\n"
      ]
     },
     "metadata": {},
     "output_type": "display_data"
    },
    {
     "data": {
      "text/html": [
       "<pre style=\"white-space:pre;overflow-x:auto;line-height:normal;font-family:Menlo,'DejaVu Sans Mono',consolas,'Courier New',monospace\">\n",
       "</pre>\n"
      ],
      "text/plain": [
       "\n"
      ]
     },
     "metadata": {},
     "output_type": "display_data"
    }
   ],
   "source": [
    "filter_generated = cached_call(prompt, sql_filter)\n",
    "exercises_df = db_call(filter_generated)"
   ]
  },
  {
   "cell_type": "code",
   "execution_count": 168,
   "id": "0db23307",
   "metadata": {},
   "outputs": [
    {
     "data": {
      "text/html": [
       "<div>\n",
       "<style scoped>\n",
       "    .dataframe tbody tr th:only-of-type {\n",
       "        vertical-align: middle;\n",
       "    }\n",
       "\n",
       "    .dataframe tbody tr th {\n",
       "        vertical-align: top;\n",
       "    }\n",
       "\n",
       "    .dataframe thead th {\n",
       "        text-align: right;\n",
       "    }\n",
       "</style>\n",
       "<table border=\"1\" class=\"dataframe\">\n",
       "  <thead>\n",
       "    <tr style=\"text-align: right;\">\n",
       "      <th></th>\n",
       "      <th>id</th>\n",
       "      <th>name</th>\n",
       "      <th>movement_pattern</th>\n",
       "      <th>movement_type</th>\n",
       "      <th>body_region</th>\n",
       "      <th>load_class</th>\n",
       "      <th>muscles</th>\n",
       "      <th>equipments</th>\n",
       "    </tr>\n",
       "  </thead>\n",
       "  <tbody>\n",
       "    <tr>\n",
       "      <th>0</th>\n",
       "      <td>3</td>\n",
       "      <td>parallel bar dips</td>\n",
       "      <td>horizontal push</td>\n",
       "      <td>compound</td>\n",
       "      <td>upper body</td>\n",
       "      <td>bodyweight</td>\n",
       "      <td>chest, shoulders, triceps</td>\n",
       "      <td>gymnastics rings, parallel bars</td>\n",
       "    </tr>\n",
       "    <tr>\n",
       "      <th>1</th>\n",
       "      <td>4</td>\n",
       "      <td>push ups</td>\n",
       "      <td>horizontal push</td>\n",
       "      <td>compound</td>\n",
       "      <td>upper body</td>\n",
       "      <td>bodyweight</td>\n",
       "      <td>chest, shoulders, triceps</td>\n",
       "      <td>ground, gymnastics rings, parallettes</td>\n",
       "    </tr>\n",
       "    <tr>\n",
       "      <th>2</th>\n",
       "      <td>8</td>\n",
       "      <td>v-push ups</td>\n",
       "      <td>vertical push</td>\n",
       "      <td>compound</td>\n",
       "      <td>upper body</td>\n",
       "      <td>bodyweight</td>\n",
       "      <td>shoulders, triceps</td>\n",
       "      <td>ground</td>\n",
       "    </tr>\n",
       "  </tbody>\n",
       "</table>\n",
       "</div>"
      ],
      "text/plain": [
       "   id               name movement_pattern movement_type body_region  \\\n",
       "0   3  parallel bar dips  horizontal push      compound  upper body   \n",
       "1   4           push ups  horizontal push      compound  upper body   \n",
       "2   8         v-push ups    vertical push      compound  upper body   \n",
       "\n",
       "   load_class                    muscles  \\\n",
       "0  bodyweight  chest, shoulders, triceps   \n",
       "1  bodyweight  chest, shoulders, triceps   \n",
       "2  bodyweight         shoulders, triceps   \n",
       "\n",
       "                              equipments  \n",
       "0        gymnastics rings, parallel bars  \n",
       "1  ground, gymnastics rings, parallettes  \n",
       "2                                 ground  "
      ]
     },
     "execution_count": 168,
     "metadata": {},
     "output_type": "execute_result"
    }
   ],
   "source": [
    "exercises_df"
   ]
  },
  {
   "cell_type": "code",
   "execution_count": 140,
   "id": "b64b4eaf",
   "metadata": {},
   "outputs": [
    {
     "data": {
      "text/plain": [
       "[{'id': 1,\n",
       "  'name': 'horizontal bench press',\n",
       "  'movement_pattern': 'horizontal push',\n",
       "  'movement_type': 'compound',\n",
       "  'body_region': 'upper body',\n",
       "  'load_class': 'free-weight',\n",
       "  'muscles': 'chest, shoulders, triceps',\n",
       "  'equipments': 'barbell, dumbbells, smith machine'},\n",
       " {'id': 2,\n",
       "  'name': 'incline bench press',\n",
       "  'movement_pattern': 'horizontal push',\n",
       "  'movement_type': 'compound',\n",
       "  'body_region': 'upper body',\n",
       "  'load_class': 'free-weight',\n",
       "  'muscles': 'chest, shoulders, triceps',\n",
       "  'equipments': 'barbell, dumbbells, smith machine'},\n",
       " {'id': 3,\n",
       "  'name': 'parallel bar dips',\n",
       "  'movement_pattern': 'horizontal push',\n",
       "  'movement_type': 'compound',\n",
       "  'body_region': 'upper body',\n",
       "  'load_class': 'bodyweight',\n",
       "  'muscles': 'chest, shoulders, triceps',\n",
       "  'equipments': 'gymnastics rings, parallel bars'},\n",
       " {'id': 4,\n",
       "  'name': 'push ups',\n",
       "  'movement_pattern': 'horizontal push',\n",
       "  'movement_type': 'compound',\n",
       "  'body_region': 'upper body',\n",
       "  'load_class': 'bodyweight',\n",
       "  'muscles': 'chest, shoulders, triceps',\n",
       "  'equipments': 'ground, gymnastics rings, parallettes'},\n",
       " {'id': 6,\n",
       "  'name': 'military press',\n",
       "  'movement_pattern': 'vertical push',\n",
       "  'movement_type': 'compound',\n",
       "  'body_region': 'upper body',\n",
       "  'load_class': 'free-weight',\n",
       "  'muscles': 'shoulders, triceps',\n",
       "  'equipments': 'barbell, dumbbells, smith machine'},\n",
       " {'id': 7,\n",
       "  'name': 'arnold press',\n",
       "  'movement_pattern': 'vertical push',\n",
       "  'movement_type': 'compound',\n",
       "  'body_region': 'upper body',\n",
       "  'load_class': 'free-weight',\n",
       "  'muscles': 'shoulders, triceps',\n",
       "  'equipments': 'dumbbells'},\n",
       " {'id': 8,\n",
       "  'name': 'v-push ups',\n",
       "  'movement_pattern': 'vertical push',\n",
       "  'movement_type': 'compound',\n",
       "  'body_region': 'upper body',\n",
       "  'load_class': 'bodyweight',\n",
       "  'muscles': 'shoulders, triceps',\n",
       "  'equipments': 'ground'},\n",
       " {'id': 10,\n",
       "  'name': 'barbell row',\n",
       "  'movement_pattern': 'horizontal pull',\n",
       "  'movement_type': 'compound',\n",
       "  'body_region': 'upper body',\n",
       "  'load_class': 'free-weight',\n",
       "  'muscles': 'biceps, lats',\n",
       "  'equipments': 'barbell'},\n",
       " {'id': 11,\n",
       "  'name': 'pulley',\n",
       "  'movement_pattern': 'horizontal pull',\n",
       "  'movement_type': 'compound',\n",
       "  'body_region': 'upper body',\n",
       "  'load_class': 'free-weight',\n",
       "  'muscles': 'biceps, lats',\n",
       "  'equipments': 'row machine'},\n",
       " {'id': 12,\n",
       "  'name': 'australian pull ups',\n",
       "  'movement_pattern': 'horizontal pull',\n",
       "  'movement_type': 'compound',\n",
       "  'body_region': 'upper body',\n",
       "  'load_class': 'bodyweight',\n",
       "  'muscles': 'biceps, lats',\n",
       "  'equipments': 'gymnastics rings, pull-up bar'},\n",
       " {'id': 13,\n",
       "  'name': 'pull ups',\n",
       "  'movement_pattern': 'vertical pull',\n",
       "  'movement_type': 'compound',\n",
       "  'body_region': 'upper body',\n",
       "  'load_class': 'bodyweight',\n",
       "  'muscles': 'biceps, lats',\n",
       "  'equipments': 'gymnastics rings, pull-up bar'},\n",
       " {'id': 29,\n",
       "  'name': 'chest fly w2',\n",
       "  'movement_pattern': 'single-joint',\n",
       "  'movement_type': 'isolation',\n",
       "  'body_region': 'upper body',\n",
       "  'load_class': 'free-weight',\n",
       "  'muscles': 'chest',\n",
       "  'equipments': 'dumbbells'},\n",
       " {'id': 33,\n",
       "  'name': 'french press',\n",
       "  'movement_pattern': 'single-joint',\n",
       "  'movement_type': 'isolation',\n",
       "  'body_region': 'upper body',\n",
       "  'load_class': 'free-weight',\n",
       "  'muscles': 'triceps',\n",
       "  'equipments': 'dumbbells'}]"
      ]
     },
     "execution_count": 140,
     "metadata": {},
     "output_type": "execute_result"
    }
   ],
   "source": [
    "exercises_df.to_dict(orient=\"records\")"
   ]
  }
 ],
 "metadata": {
  "kernelspec": {
   "display_name": "venv",
   "language": "python",
   "name": "python3"
  },
  "language_info": {
   "codemirror_mode": {
    "name": "ipython",
    "version": 3
   },
   "file_extension": ".py",
   "mimetype": "text/x-python",
   "name": "python",
   "nbconvert_exporter": "python",
   "pygments_lexer": "ipython3",
   "version": "3.12.10"
  }
 },
 "nbformat": 4,
 "nbformat_minor": 5
}
