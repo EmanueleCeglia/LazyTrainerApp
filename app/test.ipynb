{
 "cells": [
  {
   "cell_type": "code",
   "execution_count": 7,
   "id": "eda43654",
   "metadata": {},
   "outputs": [],
   "source": [
    "import json"
   ]
  },
  {
   "cell_type": "code",
   "execution_count": 8,
   "id": "618365dc",
   "metadata": {},
   "outputs": [],
   "source": [
    "with open('../exercises.json', 'r') as file: \n",
    "    exercises = json.load(file)"
   ]
  },
  {
   "cell_type": "code",
   "execution_count": null,
   "id": "da76616b",
   "metadata": {},
   "outputs": [],
   "source": [
    "# La persona può scegliere se allenare:\n",
    "# full body\n",
    "# upper body\n",
    "# lower body "
   ]
  },
  {
   "cell_type": "code",
   "execution_count": 9,
   "id": "c7f893bb",
   "metadata": {},
   "outputs": [
    {
     "data": {
      "text/plain": [
       "[{'name': 'Flat Bench Press',\n",
       "  'type': 'compound',\n",
       "  'category': 'upper body',\n",
       "  'subcategory': 'horizontal push',\n",
       "  'equipment': ['barbell', 'dumbbells', 'machine']},\n",
       " {'name': 'Incline Bench Press',\n",
       "  'type': 'compound',\n",
       "  'category': 'upper body',\n",
       "  'subcategory': 'horizontal push',\n",
       "  'equipment': ['barbell', 'dumbbells', 'machine']},\n",
       " {'name': 'Parallel Bar Dips',\n",
       "  'type': 'compound',\n",
       "  'category': 'upper body',\n",
       "  'subcategory': 'horizontal push',\n",
       "  'equipment': ['bars', 'bodyweight', 'weighted']},\n",
       " {'name': 'Chest Fly on Bench',\n",
       "  'type': 'compound',\n",
       "  'category': 'upper body',\n",
       "  'subcategory': 'horizontal push',\n",
       "  'equipment': ['dumbbells', 'machine']},\n",
       " {'name': 'Push-Ups',\n",
       "  'type': 'compound',\n",
       "  'category': 'upper body',\n",
       "  'subcategory': 'horizontal push',\n",
       "  'equipment': ['bodyweight', 'weighted']},\n",
       " {'name': 'Military Press',\n",
       "  'type': 'compound',\n",
       "  'category': 'upper body',\n",
       "  'subcategory': 'vertical push',\n",
       "  'equipment': ['barbell', 'dumbbells']},\n",
       " {'name': 'Arnold Press',\n",
       "  'type': 'compound',\n",
       "  'category': 'upper body',\n",
       "  'subcategory': 'vertical push',\n",
       "  'equipment': ['dumbbells']},\n",
       " {'name': 'Bent-Over Row',\n",
       "  'type': 'compound',\n",
       "  'category': 'upper body',\n",
       "  'subcategory': 'horizontal pull',\n",
       "  'equipment': ['barbell', 'dumbbells', 'machine']},\n",
       " {'name': 'Cable Row (Pulley)',\n",
       "  'type': 'compound',\n",
       "  'category': 'upper body',\n",
       "  'subcategory': 'horizontal pull',\n",
       "  'equipment': ['machine', 'cable']},\n",
       " {'name': 'Pull-Ups',\n",
       "  'type': 'compound',\n",
       "  'category': 'upper body',\n",
       "  'subcategory': 'vertical pull',\n",
       "  'equipment': ['bodyweight', 'assisted', 'weighted']},\n",
       " {'name': 'Lat Pulldown',\n",
       "  'type': 'compound',\n",
       "  'category': 'upper body',\n",
       "  'subcategory': 'vertical pull',\n",
       "  'equipment': ['machine']},\n",
       " {'name': 'Squat',\n",
       "  'type': 'compound',\n",
       "  'category': 'lower body',\n",
       "  'subcategory': 'legs anterior kinetic chain',\n",
       "  'equipment': ['barbell', 'bodyweight', 'smith machine']},\n",
       " {'name': 'Deadlift',\n",
       "  'type': 'compound',\n",
       "  'category': 'lower body',\n",
       "  'subcategory': 'legs posterior kinetic chain',\n",
       "  'equipment': ['barbell']},\n",
       " {'name': 'Hip Thrust',\n",
       "  'type': 'compound',\n",
       "  'category': 'lower body',\n",
       "  'subcategory': 'legs posterior kinetic chain',\n",
       "  'equipment': ['barbell', 'machine']},\n",
       " {'name': 'Barbell Curl',\n",
       "  'type': 'isolation',\n",
       "  'category': 'lower body',\n",
       "  'subcategory': 'biceps',\n",
       "  'equipment': ['barbell']},\n",
       " {'name': 'Cable Pushdown',\n",
       "  'type': 'isolation',\n",
       "  'category': 'lower body',\n",
       "  'subcategory': 'triceps',\n",
       "  'equipment': ['cables']},\n",
       " {'name': 'Lateral Raises',\n",
       "  'type': 'isolation',\n",
       "  'category': 'lower body',\n",
       "  'subcategory': 'shoulders',\n",
       "  'equipment': ['dumbbells', 'cables']},\n",
       " {'name': 'Leg Extension',\n",
       "  'type': 'isolation',\n",
       "  'category': 'lower body',\n",
       "  'subcategory': 'quadriceps',\n",
       "  'equipment': ['machine']},\n",
       " {'name': 'Leg Curl',\n",
       "  'type': 'isolation',\n",
       "  'category': 'lower body',\n",
       "  'subcategory': 'hamstrings',\n",
       "  'equipment': ['machine']},\n",
       " {'name': 'Calf Raise',\n",
       "  'type': 'isolation',\n",
       "  'category': 'lower body',\n",
       "  'subcategory': 'calves',\n",
       "  'equipment': ['dumbbells', 'barbell', 'machine', 'bodyweight']}]"
      ]
     },
     "execution_count": 9,
     "metadata": {},
     "output_type": "execute_result"
    }
   ],
   "source": [
    "exercises"
   ]
  }
 ],
 "metadata": {
  "kernelspec": {
   "display_name": "Python 3",
   "language": "python",
   "name": "python3"
  },
  "language_info": {
   "codemirror_mode": {
    "name": "ipython",
    "version": 3
   },
   "file_extension": ".py",
   "mimetype": "text/x-python",
   "name": "python",
   "nbconvert_exporter": "python",
   "pygments_lexer": "ipython3",
   "version": "3.13.3"
  }
 },
 "nbformat": 4,
 "nbformat_minor": 5
}
