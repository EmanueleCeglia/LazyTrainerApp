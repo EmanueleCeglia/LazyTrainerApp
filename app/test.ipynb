{
 "cells": [
  {
   "cell_type": "code",
   "execution_count": 7,
   "id": "eda43654",
   "metadata": {},
   "outputs": [],
   "source": [
    "import json"
   ]
  },
  {
   "cell_type": "code",
   "execution_count": null,
   "id": "618365dc",
   "metadata": {},
   "outputs": [],
   "source": [
    "# open json file with the list of exercises (they will be in the database)\n",
    "with open('../exercises.json', 'r') as file: \n",
    "    exercises = json.load(file)"
   ]
  },
  {
   "cell_type": "code",
   "execution_count": null,
   "id": "da76616b",
   "metadata": {},
   "outputs": [],
   "source": [
    "# -------------------------------\n",
    "#        LazyTrainer App\n",
    "# -------------------------------\n",
    "\n",
    "# What do you want to train today?\n",
    "\n",
    "# [1] Full Body\n",
    "# [2] Upper Body\n",
    "# [3] Lower Body\n",
    "\n",
    "# -------------------------------"
   ]
  },
  {
   "cell_type": "code",
   "execution_count": 23,
   "id": "ec0fb4f8",
   "metadata": {},
   "outputs": [],
   "source": [
    "import getpass\n",
    "import os\n",
    "\n",
    "if not os.environ.get(\"OPENAI_API_KEY\"):\n",
    "  os.environ[\"OPENAI_API_KEY\"] = getpass.getpass(\"Enter API key for OpenAI: \")\n",
    "\n",
    "from langchain.chat_models import init_chat_model\n",
    "\n",
    "model = init_chat_model(\"gpt-4o-mini\", model_provider=\"openai\", temperature=0)"
   ]
  },
  {
   "cell_type": "code",
   "execution_count": 56,
   "id": "50e58af4",
   "metadata": {},
   "outputs": [],
   "source": [
    "from langchain_core.prompts import ChatPromptTemplate, MessagesPlaceholder\n",
    "\n",
    "template = ChatPromptTemplate([\n",
    "    (\"system\", \"You are an exercises selector, based on the user's request you will select suitable exercises from the following json file {json_file}.\"),\n",
    "    (\"system\", \"If the variabile category and subcategory do not match output 'I cannot satisfy the request'.\"),\n",
    "    (\"human\", \"category: {category} subcategory {subcategory}\")\n",
    "])\n",
    "\n",
    "prompt_value = template.invoke(\n",
    "    {\n",
    "        \"json_file\": exercises,\n",
    "        \"category\": \"upper body\",\n",
    "        \"subcategory\": \"horizontal pull\"\n",
    "    }\n",
    ")\n",
    "model_response = model.invoke(prompt_value)"
   ]
  },
  {
   "cell_type": "code",
   "execution_count": 57,
   "id": "b890d87d",
   "metadata": {},
   "outputs": [
    {
     "name": "stdout",
     "output_type": "stream",
     "text": [
      "Here are suitable exercises for the upper body with a horizontal pull subcategory:\n",
      "\n",
      "1. Bent-Over Row\n",
      "   - Type: Compound\n",
      "   - Equipment: Barbell, Dumbbells, Machine\n",
      "\n",
      "2. Cable Row (Pulley)\n",
      "   - Type: Compound\n",
      "   - Equipment: Machine, Cable\n"
     ]
    }
   ],
   "source": [
    "print(model_response.content)"
   ]
  },
  {
   "cell_type": "code",
   "execution_count": null,
   "id": "cfb911cf",
   "metadata": {},
   "outputs": [],
   "source": []
  }
 ],
 "metadata": {
  "kernelspec": {
   "display_name": "Python 3",
   "language": "python",
   "name": "python3"
  },
  "language_info": {
   "codemirror_mode": {
    "name": "ipython",
    "version": 3
   },
   "file_extension": ".py",
   "mimetype": "text/x-python",
   "name": "python",
   "nbconvert_exporter": "python",
   "pygments_lexer": "ipython3",
   "version": "3.13.3"
  }
 },
 "nbformat": 4,
 "nbformat_minor": 5
}
