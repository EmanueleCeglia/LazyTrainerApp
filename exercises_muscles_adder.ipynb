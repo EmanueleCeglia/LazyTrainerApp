{
 "cells": [
  {
   "cell_type": "markdown",
   "id": "9a317498",
   "metadata": {},
   "source": [
    "## Add Muscles"
   ]
  },
  {
   "cell_type": "code",
   "execution_count": null,
   "id": "62e49403",
   "metadata": {},
   "outputs": [],
   "source": [
    "muscles = [\n",
    "    # Upper body push\n",
    "    \"chest\",\n",
    "    \"shoulders\",\n",
    "    \"triceps\",\n",
    "    # Upper body pull\n",
    "    \"lats\",\n",
    "    \"biceps\"\n",
    "    # Lower body\n",
    "    \"quads\",\n",
    "    \"harmstrings\",\n",
    "    \"calves\"\n",
    "]\n",
    "\n",
    "print(\"INSERT INTO muscles (name)\\nVALUES\")\n",
    "for muscle in muscles:\n",
    "    print(f\"('{muscle}'),\")\n",
    "\n",
    "print(\"put ; in last row\")"
   ]
  },
  {
   "cell_type": "markdown",
   "id": "015ff10a",
   "metadata": {},
   "source": [
    "## Add Equipment"
   ]
  },
  {
   "cell_type": "code",
   "execution_count": null,
   "id": "3af7c7c5",
   "metadata": {},
   "outputs": [],
   "source": [
    "equip = [\n",
    "    # Free weights\n",
    "    \"barebell\",\n",
    "    \"dumbbells\",\n",
    "    \"smith machine\",\n",
    "    # Free body workout\n",
    "    \"high-bar\",\n",
    "    \"parallettes\",\n",
    "    \"ground\"\n",
    "    # Machines horizontal push\n",
    "    \"chest press\",\n",
    "    # Machines vertical push\n",
    "    \"shoulder press\",\n",
    "    # Machines horizontal pull\n",
    "    \"row machine\",\n",
    "    # Machines vertical pull\n",
    "    \"lat machine\",\n",
    "    # Legs quads\n",
    "    \"leg press\",\n",
    "    \"leg extension\",\n",
    "    # Legs harmstrings\n",
    "    \"leg curl\",\n",
    "    # Cables\n",
    "    \"high cable\",\n",
    "    \"mid cable\",\n",
    "    \"low cable\",\n",
    "    \"single cable\"\n",
    "]\n",
    "\n",
    "print(\"INSERT INTO equipment (name)\\nVALUES\")\n",
    "for eq in equip:\n",
    "    print(f\"('{eq}'),\")\n",
    "\n",
    "print(\"put ; in last row\")"
   ]
  },
  {
   "cell_type": "code",
   "execution_count": null,
   "id": "d1b20ac7",
   "metadata": {},
   "outputs": [],
   "source": [
    "list_exercises = [\n",
    "    # horizontal push\n",
    "    'Flat Bench Press',\n",
    "    'Incline Bench Press',\n",
    "    'Parallel Bar Dips',\n",
    "    'Chest Fly on Bench',\n",
    "    'Push-Ups',\n",
    "    # vertical push\n",
    "    'Military Press',\n",
    "    'Arnold Press',\n",
    "    # horizontal pull\n",
    "    'Barbell Row',\n",
    "    'Cable Row (Pulley)',\n",
    "    # vertical pull\n",
    "    'Pull-Ups',\n",
    "    'Lat Pulldown',\n",
    "    # legs\n",
    "    'Squat',\n",
    "    'Deadlift',\n",
    "    'Hip Thrust',\n",
    "    'Barbell Curl',\n",
    "    'Cable Pushdown',\n",
    "    'Lateral Raises',\n",
    "    'Leg Extension',\n",
    "    'Leg Curl',\n",
    "    'Calf Raise'\n",
    "]"
   ]
  },
  {
   "cell_type": "markdown",
   "id": "5ca1fa57",
   "metadata": {},
   "source": [
    "## Add Exercises"
   ]
  },
  {
   "cell_type": "code",
   "execution_count": null,
   "id": "bc5763bd",
   "metadata": {},
   "outputs": [],
   "source": [
    "from app.db_models import Muscle, Exercise, ExerciseMuscle\n",
    "from app.db import SessionLocal\n",
    "\n",
    "db = SessionLocal()\n",
    "\n",
    "chest = Muscle(name=\"chest\")\n",
    "triceps = Muscle(name=\"triceps\")\n",
    "front_delt = Muscle(name=\"anterior deltoid\")\n",
    "\n",
    "exercise = Exercise(\n",
    "    name=\"flat bench press\",\n",
    "    exercise_type=\"compound\",\n",
    "    body_region=\"upper body\",\n",
    "    movement_pattern=\"horizontal push\",\n",
    ")\n",
    "\n",
    "## SE I MUSCOLI ESISTONO GIA POSSO FARE\n",
    "# chest   = db.query(Muscle).filter_by(name=\"chest\").one()\n",
    "# triceps = db.query(Muscle).filter_by(name=\"triceps brachii\").one()\n",
    "\n",
    "exercise.muscle_associations = [\n",
    "    ExerciseMuscle(muscle=chest, role=\"primary\"),\n",
    "    ExerciseMuscle(muscle=triceps,   role=\"secondary\"),\n",
    "    ExerciseMuscle(muscle=front_delt, role=\"secondary\"),\n",
    "]\n",
    "db.add(exercise)\n",
    "db.commit()\n",
    "\n",
    "for ex in db.query(Exercise).all():\n",
    "    print(ex.name, \"→\", [m.name for m in ex.muscles])"
   ]
  },
  {
   "cell_type": "code",
   "execution_count": null,
   "id": "e530e1b4",
   "metadata": {},
   "outputs": [
    {
     "name": "stdout",
     "output_type": "stream",
     "text": [
      "2025-04-18 16:53:13,679 INFO sqlalchemy.engine.Engine BEGIN (implicit)\n",
      "2025-04-18 16:53:13,680 INFO sqlalchemy.engine.Engine SELECT pg_catalog.pg_class.relname \n",
      "FROM pg_catalog.pg_class JOIN pg_catalog.pg_namespace ON pg_catalog.pg_namespace.oid = pg_catalog.pg_class.relnamespace \n",
      "WHERE pg_catalog.pg_class.relname = %(table_name)s AND pg_catalog.pg_class.relkind = ANY (ARRAY[%(param_1)s, %(param_2)s, %(param_3)s, %(param_4)s, %(param_5)s]) AND pg_catalog.pg_table_is_visible(pg_catalog.pg_class.oid) AND pg_catalog.pg_namespace.nspname != %(nspname_1)s\n",
      "2025-04-18 16:53:13,682 INFO sqlalchemy.engine.Engine [cached since 3750s ago] {'table_name': 'exercise_muscles', 'param_1': 'r', 'param_2': 'p', 'param_3': 'f', 'param_4': 'v', 'param_5': 'm', 'nspname_1': 'pg_catalog'}\n",
      "2025-04-18 16:53:13,688 INFO sqlalchemy.engine.Engine SELECT pg_catalog.pg_class.relname \n",
      "FROM pg_catalog.pg_class JOIN pg_catalog.pg_namespace ON pg_catalog.pg_namespace.oid = pg_catalog.pg_class.relnamespace \n",
      "WHERE pg_catalog.pg_class.relname = %(table_name)s AND pg_catalog.pg_class.relkind = ANY (ARRAY[%(param_1)s, %(param_2)s, %(param_3)s, %(param_4)s, %(param_5)s]) AND pg_catalog.pg_table_is_visible(pg_catalog.pg_class.oid) AND pg_catalog.pg_namespace.nspname != %(nspname_1)s\n",
      "2025-04-18 16:53:13,693 INFO sqlalchemy.engine.Engine [cached since 3750s ago] {'table_name': 'exercises', 'param_1': 'r', 'param_2': 'p', 'param_3': 'f', 'param_4': 'v', 'param_5': 'm', 'nspname_1': 'pg_catalog'}\n",
      "2025-04-18 16:53:13,693 INFO sqlalchemy.engine.Engine SELECT pg_catalog.pg_class.relname \n",
      "FROM pg_catalog.pg_class JOIN pg_catalog.pg_namespace ON pg_catalog.pg_namespace.oid = pg_catalog.pg_class.relnamespace \n",
      "WHERE pg_catalog.pg_class.relname = %(table_name)s AND pg_catalog.pg_class.relkind = ANY (ARRAY[%(param_1)s, %(param_2)s, %(param_3)s, %(param_4)s, %(param_5)s]) AND pg_catalog.pg_table_is_visible(pg_catalog.pg_class.oid) AND pg_catalog.pg_namespace.nspname != %(nspname_1)s\n",
      "2025-04-18 16:53:13,695 INFO sqlalchemy.engine.Engine [cached since 3750s ago] {'table_name': 'muscles', 'param_1': 'r', 'param_2': 'p', 'param_3': 'f', 'param_4': 'v', 'param_5': 'm', 'nspname_1': 'pg_catalog'}\n",
      "2025-04-18 16:53:13,698 INFO sqlalchemy.engine.Engine \n",
      "DROP TABLE exercise_muscles\n",
      "2025-04-18 16:53:13,698 INFO sqlalchemy.engine.Engine [no key 0.00068s] {}\n"
     ]
    }
   ],
   "source": [
    "from app.db import engine\n",
    "from app.db_models import Base   # contiene tutte le Table\n",
    "\n",
    "# 👇 DROP di tutte le tabelle mappate in Base.metadata\n",
    "Base.metadata.drop_all(bind=engine)\n",
    "print(\"Tutte le tabelle sono state eliminate.\")"
   ]
  },
  {
   "cell_type": "code",
   "execution_count": null,
   "id": "e6dd49ed",
   "metadata": {},
   "outputs": [],
   "source": []
  }
 ],
 "metadata": {
  "kernelspec": {
   "display_name": "venv",
   "language": "python",
   "name": "python3"
  },
  "language_info": {
   "codemirror_mode": {
    "name": "ipython",
    "version": 3
   },
   "file_extension": ".py",
   "mimetype": "text/x-python",
   "name": "python",
   "nbconvert_exporter": "python",
   "pygments_lexer": "ipython3",
   "version": "3.12.10"
  }
 },
 "nbformat": 4,
 "nbformat_minor": 5
}
